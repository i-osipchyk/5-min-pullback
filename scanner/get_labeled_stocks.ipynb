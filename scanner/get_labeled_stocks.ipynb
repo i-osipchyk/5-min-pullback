{
 "cells": [
  {
   "cell_type": "markdown",
   "id": "798f06a8",
   "metadata": {},
   "source": [
    "# Stock Filtering Development"
   ]
  },
  {
   "cell_type": "markdown",
   "id": "9704a9c9",
   "metadata": {},
   "source": [
    "This notebook contains development of stock filtering for 5 minute pullback strategy."
   ]
  },
  {
   "cell_type": "markdown",
   "id": "195dad0f",
   "metadata": {},
   "source": [
    "In order to run the scanner on a specific subset of stocks, trader needs to filter market for these stocks.\n",
    "<br>\n",
    "<br>\n",
    "For now I have found market cap and price as the best global criterias for my stock selection. Local criteria like volume are used later on the scanner stage."
   ]
  },
  {
   "cell_type": "markdown",
   "id": "a6ab4233",
   "metadata": {},
   "source": [
    "## Imports"
   ]
  },
  {
   "cell_type": "code",
   "execution_count": null,
   "id": "0ea971e5",
   "metadata": {},
   "outputs": [
    {
     "name": "stdout",
     "output_type": "stream",
     "text": [
      "/Users/ivanosipchyk/dev/investing/5-min-pullback\n"
     ]
    },
    {
     "data": {
      "text/plain": [
       "'/Users/ivanosipchyk/dev/investing/5-min-pullback'"
      ]
     },
     "execution_count": 4,
     "metadata": {},
     "output_type": "execute_result"
    }
   ],
   "source": [
    "import yfinance as yf\n",
    "import pandas as pd\n",
    "import os\n",
    "from datetime import datetime\n",
    "import time\n",
    "from glob import glob\n",
    "import re\n",
    "import shutil\n",
    "%cd ..\n",
    "%pwd"
   ]
  },
  {
   "cell_type": "markdown",
   "id": "1feca895",
   "metadata": {},
   "source": [
    "## Functions"
   ]
  },
  {
   "cell_type": "code",
   "execution_count": null,
   "id": "0fa66e68",
   "metadata": {},
   "outputs": [],
   "source": [
    "def add_market_cap_label(data, small_cap_threshold, soft_margin_coef=1.2):\n",
    "    def label_cap(x):\n",
    "        if x < small_cap_threshold:\n",
    "            return 'small'\n",
    "        elif x <= small_cap_threshold * soft_margin_coef:\n",
    "            return 'almost small'\n",
    "        else:\n",
    "            return 'mid/large'\n",
    "\n",
    "    data['marketCapLabel'] = data['marketCap'].apply(label_cap)\n",
    "    return data\n",
    "\n",
    "\n",
    "def add_price_range(data, lower_price_bound, upper_price_bound, soft_margin_coef=1.2):\n",
    "    def label_price(x):\n",
    "        if x < lower_price_bound or x > upper_price_bound * soft_margin_coef:\n",
    "            return 'out'\n",
    "        elif x >= lower_price_bound and x <= upper_price_bound:\n",
    "            return 'in'\n",
    "        else:\n",
    "            return 'almost in'\n",
    "\n",
    "    data['priceRangeLabel'] = data['currentPrice'].apply(label_price)\n",
    "    return data\n",
    "\n",
    "\n",
    "def get_stock_info(symbols_list, features, small_cap_threshold, price_bounds,\n",
    "                   sleep_secs=60, batch_size=1000, temp_dir='scanner/temp', output_dir='daily_output'):\n",
    "    os.makedirs(temp_dir, exist_ok=True)\n",
    "    os.makedirs(output_dir, exist_ok=True)\n",
    "\n",
    "    today = datetime.today()\n",
    "    today_str = today.strftime('%Y-%m-%d')\n",
    "    run_time = today.strftime('%Y-%m-%d_%H-%M-%S')\n",
    "    is_sunday = today.weekday() == 6\n",
    "\n",
    "    # Check if temp folder has leftover files\n",
    "    batch_files = glob(os.path.join(temp_dir, 'batch_*.csv'))\n",
    "    if not batch_files:\n",
    "        # If no temp data, fall back to latest output if not Sunday\n",
    "        if not is_sunday:\n",
    "            output_files = sorted(glob(os.path.join(output_dir, 'market_update_*.csv')), reverse=True)\n",
    "            if output_files:\n",
    "                last_file = output_files[0]\n",
    "                try:\n",
    "                    processed_df = pd.read_csv(last_file)\n",
    "                    processed_symbols = set(processed_df['Ticker'].tolist())\n",
    "                    print(f\"Using {last_file} as previous market update, skipping {len(processed_symbols)} already processed symbols.\")\n",
    "                except Exception as e:\n",
    "                    print(f\"Failed to load {last_file}: {e}\")\n",
    "                    processed_symbols = set()\n",
    "            else:\n",
    "                processed_symbols = set()\n",
    "        else:\n",
    "            processed_symbols = set()\n",
    "    else:\n",
    "        # Use leftover temp data from previous run\n",
    "        batch_files.sort(reverse=True)\n",
    "        latest_run = batch_files[0].split(\"_\", 2)[-1].rsplit(\".\", 1)[0]\n",
    "        processed_files = [f for f in batch_files if latest_run in f]\n",
    "        processed_df_list = [pd.read_csv(f) for f in processed_files]\n",
    "        processed_df = pd.concat(processed_df_list, ignore_index=True)\n",
    "        processed_symbols = set(processed_df['Ticker'].tolist())\n",
    "        print(f\"Found {len(processed_symbols)} previously processed symbols from temp folder ({latest_run})\")\n",
    "\n",
    "    # Filter tickers to only those not yet processed\n",
    "    if not is_sunday:\n",
    "        remaining_tickers = [t for t in symbols_list if t not in processed_symbols]\n",
    "    else:\n",
    "        remaining_tickers = symbols_list\n",
    "    print(f\"Remaining tickers to process: {len(remaining_tickers)}\")\n",
    "\n",
    "    # Process in batches\n",
    "    for i in range(0, len(remaining_tickers), batch_size):\n",
    "        batch = remaining_tickers[i:i + batch_size]\n",
    "        print(f\"Processing batch {i // batch_size + 1} with {len(batch)} tickers...\")\n",
    "\n",
    "        ticker_data = {}\n",
    "        tickers = yf.Tickers(\" \".join(batch))\n",
    "\n",
    "        for symbol, ticker in tickers.tickers.items():\n",
    "            try:\n",
    "                info = ticker.info\n",
    "                data = {feature: info.get(feature, None) for feature in features}\n",
    "                ticker_data[symbol] = data\n",
    "                time.sleep(0.01)\n",
    "            except Exception as e:\n",
    "                print(f\"Skipping {symbol}: {e}\")\n",
    "                continue\n",
    "\n",
    "        batch_df = pd.DataFrame.from_dict(ticker_data, orient='index')\n",
    "        batch_df.index.name = 'Ticker'\n",
    "        batch_df = batch_df.reset_index()\n",
    "\n",
    "        batch_df = add_market_cap_label(batch_df, small_cap_threshold)\n",
    "        batch_df = add_price_range(batch_df, lower_price_bound=price_bounds[0], upper_price_bound=price_bounds[1])\n",
    "\n",
    "        batch_filename = f\"batch_{str(i // batch_size + 1).zfill(3)}_{run_time}.csv\"\n",
    "        batch_path = os.path.join(temp_dir, batch_filename)\n",
    "        batch_df.to_csv(batch_path, index=False)\n",
    "        print(f\"Saved batch to {batch_path}\")\n",
    "        print(f'Waiting {sleep_secs} seconds...')\n",
    "        time.sleep(sleep_secs)\n",
    "\n",
    "    # Combine all batches from this run\n",
    "    all_batches = glob(os.path.join(temp_dir, f'*_{run_time}.csv'))\n",
    "    all_dfs = [pd.read_csv(f) for f in all_batches]\n",
    "    final_df = pd.concat(all_dfs, ignore_index=True)\n",
    "\n",
    "    # Filter out mid/large-cap stocks that are out of price range\n",
    "    final_df = final_df[~((final_df['marketCapLabel'] == 'mid/large') & (final_df['priceRangeLabel'] == 'out'))]\n",
    "\n",
    "    # Save final results to output/ folder\n",
    "    output_path = os.path.join(output_dir, f'market_update_{today_str}.csv')\n",
    "    final_df.to_csv(output_path, index=False)\n",
    "    print(f\"Saved final market update to {output_path}\")\n",
    "\n",
    "    # Delete temp folder\n",
    "    try:\n",
    "        shutil.rmtree(temp_dir)\n",
    "        print(f\"Deleted temporary folder {temp_dir}\")\n",
    "    except Exception as e:\n",
    "        print(f\"Failed to delete temp folder: {e}\")\n",
    "\n",
    "    return final_df"
   ]
  },
  {
   "cell_type": "markdown",
   "id": "70b7e862",
   "metadata": {},
   "source": [
    "## Download Labeled Data"
   ]
  },
  {
   "cell_type": "code",
   "execution_count": null,
   "id": "784c85fb",
   "metadata": {},
   "outputs": [
    {
     "name": "stdout",
     "output_type": "stream",
     "text": [
      "Remaining tickers to process: 5488\n",
      "Processing batch 1 with 1000 tickers...\n"
     ]
    },
    {
     "name": "stderr",
     "output_type": "stream",
     "text": [
      "HTTP Error 404: \n",
      "HTTP Error 404: \n",
      "HTTP Error 404: \n",
      "HTTP Error 404: \n",
      "HTTP Error 404: \n",
      "HTTP Error 404: \n",
      "HTTP Error 404: \n"
     ]
    },
    {
     "name": "stdout",
     "output_type": "stream",
     "text": [
      "Saved batch to scanner/temp/batch_001_2025-07-23_21-43-40.csv\n",
      "Waiting 60...\n",
      "Processing batch 2 with 1000 tickers...\n"
     ]
    },
    {
     "name": "stderr",
     "output_type": "stream",
     "text": [
      "HTTP Error 404: \n",
      "HTTP Error 404: \n",
      "HTTP Error 404: \n",
      "HTTP Error 404: \n",
      "HTTP Error 404: \n",
      "HTTP Error 404: \n"
     ]
    },
    {
     "name": "stdout",
     "output_type": "stream",
     "text": [
      "Saved batch to scanner/temp/batch_002_2025-07-23_21-43-40.csv\n",
      "Waiting 60...\n",
      "Processing batch 3 with 1000 tickers...\n"
     ]
    },
    {
     "name": "stderr",
     "output_type": "stream",
     "text": [
      "HTTP Error 404: \n",
      "HTTP Error 404: \n",
      "HTTP Error 404: \n"
     ]
    },
    {
     "name": "stdout",
     "output_type": "stream",
     "text": [
      "Saved batch to scanner/temp/batch_003_2025-07-23_21-43-40.csv\n",
      "Waiting 60...\n",
      "Processing batch 4 with 1000 tickers...\n"
     ]
    },
    {
     "name": "stderr",
     "output_type": "stream",
     "text": [
      "HTTP Error 404: \n",
      "HTTP Error 404: \n"
     ]
    },
    {
     "name": "stdout",
     "output_type": "stream",
     "text": [
      "Saved batch to scanner/temp/batch_004_2025-07-23_21-43-40.csv\n",
      "Waiting 60...\n",
      "Processing batch 5 with 1000 tickers...\n",
      "Saved batch to scanner/temp/batch_005_2025-07-23_21-43-40.csv\n",
      "Waiting 60...\n",
      "Processing batch 6 with 488 tickers...\n"
     ]
    },
    {
     "name": "stderr",
     "output_type": "stream",
     "text": [
      "HTTP Error 503: \n"
     ]
    },
    {
     "name": "stdout",
     "output_type": "stream",
     "text": [
      "Skipping FTFT: argument of type 'NoneType' is not iterable\n"
     ]
    },
    {
     "name": "stderr",
     "output_type": "stream",
     "text": [
      "HTTP Error 503: \n"
     ]
    },
    {
     "name": "stdout",
     "output_type": "stream",
     "text": [
      "Skipping RVYL: argument of type 'NoneType' is not iterable\n"
     ]
    },
    {
     "name": "stderr",
     "output_type": "stream",
     "text": [
      "HTTP Error 503: \n"
     ]
    },
    {
     "name": "stdout",
     "output_type": "stream",
     "text": [
      "Skipping INTS: argument of type 'NoneType' is not iterable\n"
     ]
    },
    {
     "name": "stderr",
     "output_type": "stream",
     "text": [
      "HTTP Error 503: \n"
     ]
    },
    {
     "name": "stdout",
     "output_type": "stream",
     "text": [
      "Skipping PRSO: argument of type 'NoneType' is not iterable\n"
     ]
    },
    {
     "name": "stderr",
     "output_type": "stream",
     "text": [
      "HTTP Error 503: \n"
     ]
    },
    {
     "name": "stdout",
     "output_type": "stream",
     "text": [
      "Skipping CHNR: argument of type 'NoneType' is not iterable\n"
     ]
    },
    {
     "name": "stderr",
     "output_type": "stream",
     "text": [
      "HTTP Error 503: \n"
     ]
    },
    {
     "name": "stdout",
     "output_type": "stream",
     "text": [
      "Skipping ALBT: argument of type 'NoneType' is not iterable\n"
     ]
    },
    {
     "name": "stderr",
     "output_type": "stream",
     "text": [
      "HTTP Error 503: \n"
     ]
    },
    {
     "name": "stdout",
     "output_type": "stream",
     "text": [
      "Skipping SUNE: argument of type 'NoneType' is not iterable\n"
     ]
    },
    {
     "name": "stderr",
     "output_type": "stream",
     "text": [
      "HTTP Error 503: \n"
     ]
    },
    {
     "name": "stdout",
     "output_type": "stream",
     "text": [
      "Skipping MBIO: argument of type 'NoneType' is not iterable\n"
     ]
    },
    {
     "name": "stderr",
     "output_type": "stream",
     "text": [
      "HTTP Error 503: \n"
     ]
    },
    {
     "name": "stdout",
     "output_type": "stream",
     "text": [
      "Skipping OLB: argument of type 'NoneType' is not iterable\n"
     ]
    },
    {
     "name": "stderr",
     "output_type": "stream",
     "text": [
      "HTTP Error 503: \n"
     ]
    },
    {
     "name": "stdout",
     "output_type": "stream",
     "text": [
      "Skipping OP: argument of type 'NoneType' is not iterable\n"
     ]
    },
    {
     "name": "stderr",
     "output_type": "stream",
     "text": [
      "HTTP Error 503: \n"
     ]
    },
    {
     "name": "stdout",
     "output_type": "stream",
     "text": [
      "Skipping ULY: argument of type 'NoneType' is not iterable\n"
     ]
    },
    {
     "name": "stderr",
     "output_type": "stream",
     "text": [
      "HTTP Error 503: \n"
     ]
    },
    {
     "name": "stdout",
     "output_type": "stream",
     "text": [
      "Skipping BGLC: argument of type 'NoneType' is not iterable\n"
     ]
    },
    {
     "name": "stderr",
     "output_type": "stream",
     "text": [
      "HTTP Error 503: \n"
     ]
    },
    {
     "name": "stdout",
     "output_type": "stream",
     "text": [
      "Skipping TAOP: argument of type 'NoneType' is not iterable\n"
     ]
    },
    {
     "name": "stderr",
     "output_type": "stream",
     "text": [
      "HTTP Error 503: \n"
     ]
    },
    {
     "name": "stdout",
     "output_type": "stream",
     "text": [
      "Skipping SOBR: argument of type 'NoneType' is not iterable\n"
     ]
    },
    {
     "name": "stderr",
     "output_type": "stream",
     "text": [
      "HTTP Error 503: \n"
     ]
    },
    {
     "name": "stdout",
     "output_type": "stream",
     "text": [
      "Skipping IBG: argument of type 'NoneType' is not iterable\n"
     ]
    },
    {
     "name": "stderr",
     "output_type": "stream",
     "text": [
      "HTTP Error 503: \n"
     ]
    },
    {
     "name": "stdout",
     "output_type": "stream",
     "text": [
      "Skipping SNTG: argument of type 'NoneType' is not iterable\n"
     ]
    },
    {
     "name": "stderr",
     "output_type": "stream",
     "text": [
      "HTTP Error 503: \n"
     ]
    },
    {
     "name": "stdout",
     "output_type": "stream",
     "text": [
      "Skipping AEMD: argument of type 'NoneType' is not iterable\n"
     ]
    },
    {
     "name": "stderr",
     "output_type": "stream",
     "text": [
      "HTTP Error 503: \n"
     ]
    },
    {
     "name": "stdout",
     "output_type": "stream",
     "text": [
      "Skipping IDAI: argument of type 'NoneType' is not iterable\n"
     ]
    },
    {
     "name": "stderr",
     "output_type": "stream",
     "text": [
      "HTTP Error 503: \n"
     ]
    },
    {
     "name": "stdout",
     "output_type": "stream",
     "text": [
      "Skipping SMTK: argument of type 'NoneType' is not iterable\n"
     ]
    },
    {
     "name": "stderr",
     "output_type": "stream",
     "text": [
      "HTTP Error 503: \n"
     ]
    },
    {
     "name": "stdout",
     "output_type": "stream",
     "text": [
      "Skipping SNES: argument of type 'NoneType' is not iterable\n"
     ]
    },
    {
     "name": "stderr",
     "output_type": "stream",
     "text": [
      "HTTP Error 503: \n"
     ]
    },
    {
     "name": "stdout",
     "output_type": "stream",
     "text": [
      "Skipping MOVE: argument of type 'NoneType' is not iterable\n"
     ]
    },
    {
     "name": "stderr",
     "output_type": "stream",
     "text": [
      "HTTP Error 503: \n"
     ]
    },
    {
     "name": "stdout",
     "output_type": "stream",
     "text": [
      "Skipping QNRX: argument of type 'NoneType' is not iterable\n"
     ]
    },
    {
     "name": "stderr",
     "output_type": "stream",
     "text": [
      "HTTP Error 503: \n"
     ]
    },
    {
     "name": "stdout",
     "output_type": "stream",
     "text": [
      "Skipping BSLK: argument of type 'NoneType' is not iterable\n"
     ]
    },
    {
     "name": "stderr",
     "output_type": "stream",
     "text": [
      "HTTP Error 503: \n"
     ]
    },
    {
     "name": "stdout",
     "output_type": "stream",
     "text": [
      "Skipping JAGX: argument of type 'NoneType' is not iterable\n"
     ]
    },
    {
     "name": "stderr",
     "output_type": "stream",
     "text": [
      "HTTP Error 503: \n"
     ]
    },
    {
     "name": "stdout",
     "output_type": "stream",
     "text": [
      "Skipping BKYI: argument of type 'NoneType' is not iterable\n"
     ]
    },
    {
     "name": "stderr",
     "output_type": "stream",
     "text": [
      "HTTP Error 503: \n"
     ]
    },
    {
     "name": "stdout",
     "output_type": "stream",
     "text": [
      "Skipping SGBX: argument of type 'NoneType' is not iterable\n"
     ]
    },
    {
     "name": "stderr",
     "output_type": "stream",
     "text": [
      "HTTP Error 503: \n"
     ]
    },
    {
     "name": "stdout",
     "output_type": "stream",
     "text": [
      "Skipping DGLY: argument of type 'NoneType' is not iterable\n"
     ]
    },
    {
     "name": "stderr",
     "output_type": "stream",
     "text": [
      "HTTP Error 503: \n"
     ]
    },
    {
     "name": "stdout",
     "output_type": "stream",
     "text": [
      "Skipping XELB: argument of type 'NoneType' is not iterable\n"
     ]
    },
    {
     "name": "stderr",
     "output_type": "stream",
     "text": [
      "HTTP Error 503: \n"
     ]
    },
    {
     "name": "stdout",
     "output_type": "stream",
     "text": [
      "Skipping POLA: argument of type 'NoneType' is not iterable\n"
     ]
    },
    {
     "name": "stderr",
     "output_type": "stream",
     "text": [
      "HTTP Error 503: \n"
     ]
    },
    {
     "name": "stdout",
     "output_type": "stream",
     "text": [
      "Skipping GLTO: argument of type 'NoneType' is not iterable\n"
     ]
    },
    {
     "name": "stderr",
     "output_type": "stream",
     "text": [
      "HTTP Error 503: \n"
     ]
    },
    {
     "name": "stdout",
     "output_type": "stream",
     "text": [
      "Skipping CMND: argument of type 'NoneType' is not iterable\n"
     ]
    },
    {
     "name": "stderr",
     "output_type": "stream",
     "text": [
      "HTTP Error 503: \n"
     ]
    },
    {
     "name": "stdout",
     "output_type": "stream",
     "text": [
      "Skipping UGRO: argument of type 'NoneType' is not iterable\n"
     ]
    },
    {
     "name": "stderr",
     "output_type": "stream",
     "text": [
      "HTTP Error 503: \n"
     ]
    },
    {
     "name": "stdout",
     "output_type": "stream",
     "text": [
      "Skipping BOXL: argument of type 'NoneType' is not iterable\n"
     ]
    },
    {
     "name": "stderr",
     "output_type": "stream",
     "text": [
      "HTTP Error 503: \n"
     ]
    },
    {
     "name": "stdout",
     "output_type": "stream",
     "text": [
      "Skipping LCFY: argument of type 'NoneType' is not iterable\n"
     ]
    },
    {
     "name": "stderr",
     "output_type": "stream",
     "text": [
      "HTTP Error 503: \n"
     ]
    },
    {
     "name": "stdout",
     "output_type": "stream",
     "text": [
      "Skipping PCSA: argument of type 'NoneType' is not iterable\n"
     ]
    },
    {
     "name": "stderr",
     "output_type": "stream",
     "text": [
      "HTTP Error 503: \n"
     ]
    },
    {
     "name": "stdout",
     "output_type": "stream",
     "text": [
      "Skipping JWEL: argument of type 'NoneType' is not iterable\n"
     ]
    },
    {
     "name": "stderr",
     "output_type": "stream",
     "text": [
      "HTTP Error 503: \n"
     ]
    },
    {
     "name": "stdout",
     "output_type": "stream",
     "text": [
      "Skipping TTNP: argument of type 'NoneType' is not iterable\n"
     ]
    },
    {
     "name": "stderr",
     "output_type": "stream",
     "text": [
      "HTTP Error 503: \n"
     ]
    },
    {
     "name": "stdout",
     "output_type": "stream",
     "text": [
      "Skipping PRFX: argument of type 'NoneType' is not iterable\n"
     ]
    },
    {
     "name": "stderr",
     "output_type": "stream",
     "text": [
      "HTTP Error 503: \n"
     ]
    },
    {
     "name": "stdout",
     "output_type": "stream",
     "text": [
      "Skipping AMIX: argument of type 'NoneType' is not iterable\n"
     ]
    },
    {
     "name": "stderr",
     "output_type": "stream",
     "text": [
      "HTTP Error 503: \n"
     ]
    },
    {
     "name": "stdout",
     "output_type": "stream",
     "text": [
      "Skipping ENSC: argument of type 'NoneType' is not iterable\n"
     ]
    },
    {
     "name": "stderr",
     "output_type": "stream",
     "text": [
      "HTTP Error 503: \n"
     ]
    },
    {
     "name": "stdout",
     "output_type": "stream",
     "text": [
      "Skipping AGRI: argument of type 'NoneType' is not iterable\n"
     ]
    },
    {
     "name": "stderr",
     "output_type": "stream",
     "text": [
      "HTTP Error 503: \n"
     ]
    },
    {
     "name": "stdout",
     "output_type": "stream",
     "text": [
      "Skipping PALI: argument of type 'NoneType' is not iterable\n"
     ]
    },
    {
     "name": "stderr",
     "output_type": "stream",
     "text": [
      "HTTP Error 503: \n"
     ]
    },
    {
     "name": "stdout",
     "output_type": "stream",
     "text": [
      "Skipping XPON: argument of type 'NoneType' is not iterable\n"
     ]
    },
    {
     "name": "stderr",
     "output_type": "stream",
     "text": [
      "HTTP Error 503: \n"
     ]
    },
    {
     "name": "stdout",
     "output_type": "stream",
     "text": [
      "Skipping ELAB: argument of type 'NoneType' is not iterable\n"
     ]
    },
    {
     "name": "stderr",
     "output_type": "stream",
     "text": [
      "HTTP Error 503: \n"
     ]
    },
    {
     "name": "stdout",
     "output_type": "stream",
     "text": [
      "Skipping BBLG: argument of type 'NoneType' is not iterable\n",
      "Saved batch to scanner/temp/batch_006_2025-07-23_21-43-40.csv\n",
      "Waiting 60...\n"
     ]
    }
   ],
   "source": [
    "with open('data/symbol_lists/symbols_all.txt', 'r') as file:\n",
    "    symbols = file.read()\n",
    "    symbols = re.sub(r'[\\[\\]\\'\\,]', '', symbols)\n",
    "    symbols = symbols.split('\\n')\n",
    "\n",
    "features = [\n",
    "    'currentPrice', 'averageDailyVolume10Day', 'marketCap', 'sharesOutstanding'\n",
    "]\n",
    "\n",
    "small_cap_threshold = 2_000_000_000\n",
    "price_bounds = (1, 100)\n",
    "\n",
    "test_df = get_stock_info(\n",
    "    symbolss_list=symbols,\n",
    "    features=features,\n",
    "    small_cap_threshold=small_cap_threshold,\n",
    "    price_bounds=price_bounds\n",
    ")"
   ]
  },
  {
   "cell_type": "markdown",
   "id": "b764d667",
   "metadata": {},
   "source": []
  }
 ],
 "metadata": {
  "kernelspec": {
   "display_name": "venv",
   "language": "python",
   "name": "python3"
  },
  "language_info": {
   "codemirror_mode": {
    "name": "ipython",
    "version": 3
   },
   "file_extension": ".py",
   "mimetype": "text/x-python",
   "name": "python",
   "nbconvert_exporter": "python",
   "pygments_lexer": "ipython3",
   "version": "3.13.5"
  }
 },
 "nbformat": 4,
 "nbformat_minor": 5
}
