{
 "cells": [
  {
   "cell_type": "markdown",
   "id": "2f3f721a",
   "metadata": {},
   "source": [
    "# Scanner Development Notebook"
   ]
  },
  {
   "cell_type": "markdown",
   "id": "9972d19c",
   "metadata": {},
   "source": [
    "This notebook contains development of the scanner for 5 minute pullback.\n",
    "\n",
    "The idea behind the scanner is the following:<br>\n",
    "1. In the end of each 5 minute period(exact time depends on the speed of the execution), scanner collects the data for all the stocks that fall under the rules of the strategy(based on market cap, float, price etc.)<br>\n",
    "2. Then the code filters downloaded stocks for the ones that are \"tradable\", based on volume. Threshold is to be specified<br>\n",
    "3. It then outputs the list of stocks with potential pullbacks, based on defined filters. The filters are neither too strict nor too loose, so that the trader is not overwhelmed by the number of offerings, but the scanner is able to catch as much valid moves as possible.\n",
    "4. Further logic to automatically draw charts, save approved pullbacks etc is to be defined.<br>"
   ]
  },
  {
   "cell_type": "markdown",
   "id": "227b0772",
   "metadata": {},
   "source": [
    "## Yfinance limitations and options to overcome them"
   ]
  },
  {
   "cell_type": "markdown",
   "id": "2aefd810",
   "metadata": {},
   "source": [
    "There are 3121 valid stocks on the market. Due to the limitation of yfinance library, which is a scraper essentially, this number is too high to be processed by the scanner for every 5 minute candle.\n",
    "<br>\n",
    "<br>\n",
    "Therefore, there is a need to further narrow down the type of stocks that are processed by the scanner.\n",
    "<br>\n",
    "<br>\n",
    "Possibilities are:\n",
    "\n",
    "1. Price(smaller upper boundary). This will make stock selection closer to 1 minute momentum strategy, that this strategy was derived from\n",
    "2. Average volume(some stocks that are actively traded today byt have low average volume may be lost, but it would cut the number of stocks quite good)\n",
    "<br>\n",
    "\n",
    "The best way to analyse this is to follow the strategy for some time and get parameters of the stocks that are suitable. It will give a picture of what the filters can be.\n",
    "<br>\n",
    "For the testing purposes it is sufficient to restrict the number of stocks scanned to potentially the best ones in order to test the flow of the strategy during the trading session. When more ata is collected, optimized version can be used."
   ]
  },
  {
   "cell_type": "markdown",
   "id": "2724d934",
   "metadata": {},
   "source": [
    "## Imports"
   ]
  },
  {
   "cell_type": "code",
   "execution_count": 1,
   "id": "3c59ced9",
   "metadata": {},
   "outputs": [
    {
     "name": "stdout",
     "output_type": "stream",
     "text": [
      "/Users/ivanosipchyk/dev/investing/5-min-pullback\n"
     ]
    }
   ],
   "source": [
    "import yfinance as yf\n",
    "import pandas as pd\n",
    "import time\n",
    "import pytz\n",
    "import gspread\n",
    "from gspread_dataframe import get_as_dataframe\n",
    "from oauth2client.service_account import ServiceAccountCredentials\n",
    "\n",
    "%cd .."
   ]
  },
  {
   "cell_type": "markdown",
   "id": "aa72452e",
   "metadata": {},
   "source": [
    "A little bit of TODOs, because it is getting messy.<br>\n",
    "1. Create Google Sheet with all the trades that I make to import them and use for analysis - DONE\n",
    "2. Define criteria to narrow down number of stocks for the scanner to analyze - IN PROGRESS. Long until is DONE but the progress is good\n",
    "3. Check all the trades that I made and find other pullbacks that I missed, to define the shape of the candle and other filters for the scanner"
   ]
  },
  {
   "cell_type": "markdown",
   "id": "f65320c7",
   "metadata": {},
   "source": [
    "## Read Google Sheet"
   ]
  },
  {
   "cell_type": "code",
   "execution_count": 8,
   "id": "39b7d385",
   "metadata": {},
   "outputs": [],
   "source": [
    "scopes = [\n",
    "    \"https://www.googleapis.com/auth/spreadsheets\",\n",
    "    \"https://www.googleapis.com/auth/drive\"\n",
    "]\n",
    "\n",
    "creds = ServiceAccountCredentials.from_json_keyfile_name(\"credentials/google_sheet_credentials.json\", scopes)\n",
    "\n",
    "client = gspread.authorize(creds)\n",
    "sheet = client.open(\"5 Minute Pullback Ledger\").worksheet(\"DAS Report Formatted\")\n",
    "ledger = get_as_dataframe(sheet, evaluate_formulas=True)\n"
   ]
  },
  {
   "cell_type": "code",
   "execution_count": 9,
   "id": "0185020f",
   "metadata": {},
   "outputs": [
    {
     "data": {
      "text/html": [
       "<div>\n",
       "<style scoped>\n",
       "    .dataframe tbody tr th:only-of-type {\n",
       "        vertical-align: middle;\n",
       "    }\n",
       "\n",
       "    .dataframe tbody tr th {\n",
       "        vertical-align: top;\n",
       "    }\n",
       "\n",
       "    .dataframe thead th {\n",
       "        text-align: right;\n",
       "    }\n",
       "</style>\n",
       "<table border=\"1\" class=\"dataframe\">\n",
       "  <thead>\n",
       "    <tr style=\"text-align: right;\">\n",
       "      <th></th>\n",
       "      <th>Symbol</th>\n",
       "      <th>Entry</th>\n",
       "      <th>Exit</th>\n",
       "      <th>Qty</th>\n",
       "      <th>P/L per Share</th>\n",
       "      <th>Gross P/L</th>\n",
       "      <th>Comm</th>\n",
       "      <th>Ecn Fee</th>\n",
       "      <th>Other Fees</th>\n",
       "      <th>Net P/L</th>\n",
       "      <th>...</th>\n",
       "      <th>Date</th>\n",
       "      <th>Setup</th>\n",
       "      <th>News</th>\n",
       "      <th>Company Type</th>\n",
       "      <th>L2</th>\n",
       "      <th>Daily Volume</th>\n",
       "      <th>Entry Candle Volume</th>\n",
       "      <th>Outcome</th>\n",
       "      <th>Strategy Followed</th>\n",
       "      <th>Comments</th>\n",
       "    </tr>\n",
       "  </thead>\n",
       "  <tbody>\n",
       "    <tr>\n",
       "      <th>0</th>\n",
       "      <td>IRBT</td>\n",
       "      <td>4.945</td>\n",
       "      <td>5.01</td>\n",
       "      <td>10.0</td>\n",
       "      <td>0.065</td>\n",
       "      <td>0.65</td>\n",
       "      <td>0.10</td>\n",
       "      <td>0.060</td>\n",
       "      <td>0.05</td>\n",
       "      <td>0.440</td>\n",
       "      <td>...</td>\n",
       "      <td>7/21/2025</td>\n",
       "      <td>NaN</td>\n",
       "      <td>NaN</td>\n",
       "      <td>NaN</td>\n",
       "      <td>NaN</td>\n",
       "      <td>NaN</td>\n",
       "      <td>NaN</td>\n",
       "      <td>NaN</td>\n",
       "      <td>NaN</td>\n",
       "      <td>NaN</td>\n",
       "    </tr>\n",
       "    <tr>\n",
       "      <th>1</th>\n",
       "      <td>NVTS</td>\n",
       "      <td>8.770</td>\n",
       "      <td>9.03</td>\n",
       "      <td>10.0</td>\n",
       "      <td>0.260</td>\n",
       "      <td>2.60</td>\n",
       "      <td>0.10</td>\n",
       "      <td>0.030</td>\n",
       "      <td>0.06</td>\n",
       "      <td>2.410</td>\n",
       "      <td>...</td>\n",
       "      <td>7/21/2025</td>\n",
       "      <td>NaN</td>\n",
       "      <td>NaN</td>\n",
       "      <td>NaN</td>\n",
       "      <td>NaN</td>\n",
       "      <td>NaN</td>\n",
       "      <td>NaN</td>\n",
       "      <td>NaN</td>\n",
       "      <td>NaN</td>\n",
       "      <td>NaN</td>\n",
       "    </tr>\n",
       "    <tr>\n",
       "      <th>2</th>\n",
       "      <td>OPEN</td>\n",
       "      <td>3.760</td>\n",
       "      <td>3.89</td>\n",
       "      <td>10.0</td>\n",
       "      <td>0.130</td>\n",
       "      <td>1.30</td>\n",
       "      <td>0.15</td>\n",
       "      <td>0.015</td>\n",
       "      <td>0.08</td>\n",
       "      <td>1.055</td>\n",
       "      <td>...</td>\n",
       "      <td>7/21/2025</td>\n",
       "      <td>NaN</td>\n",
       "      <td>NaN</td>\n",
       "      <td>NaN</td>\n",
       "      <td>NaN</td>\n",
       "      <td>NaN</td>\n",
       "      <td>NaN</td>\n",
       "      <td>NaN</td>\n",
       "      <td>NaN</td>\n",
       "      <td>NaN</td>\n",
       "    </tr>\n",
       "    <tr>\n",
       "      <th>3</th>\n",
       "      <td>FFAI</td>\n",
       "      <td>2.435</td>\n",
       "      <td>2.65</td>\n",
       "      <td>10.0</td>\n",
       "      <td>0.215</td>\n",
       "      <td>2.15</td>\n",
       "      <td>0.10</td>\n",
       "      <td>0.030</td>\n",
       "      <td>0.05</td>\n",
       "      <td>1.970</td>\n",
       "      <td>...</td>\n",
       "      <td>7/22/2025</td>\n",
       "      <td>NaN</td>\n",
       "      <td>NaN</td>\n",
       "      <td>NaN</td>\n",
       "      <td>NaN</td>\n",
       "      <td>NaN</td>\n",
       "      <td>NaN</td>\n",
       "      <td>NaN</td>\n",
       "      <td>NaN</td>\n",
       "      <td>NaN</td>\n",
       "    </tr>\n",
       "    <tr>\n",
       "      <th>4</th>\n",
       "      <td>DNUT</td>\n",
       "      <td>5.840</td>\n",
       "      <td>5.62</td>\n",
       "      <td>10.0</td>\n",
       "      <td>-0.220</td>\n",
       "      <td>-2.20</td>\n",
       "      <td>0.10</td>\n",
       "      <td>0.060</td>\n",
       "      <td>0.05</td>\n",
       "      <td>-2.410</td>\n",
       "      <td>...</td>\n",
       "      <td>7/23/2025</td>\n",
       "      <td>NaN</td>\n",
       "      <td>NaN</td>\n",
       "      <td>NaN</td>\n",
       "      <td>NaN</td>\n",
       "      <td>NaN</td>\n",
       "      <td>NaN</td>\n",
       "      <td>NaN</td>\n",
       "      <td>NaN</td>\n",
       "      <td>NaN</td>\n",
       "    </tr>\n",
       "  </tbody>\n",
       "</table>\n",
       "<p>5 rows × 23 columns</p>\n",
       "</div>"
      ],
      "text/plain": [
       "  Symbol  Entry  Exit   Qty  P/L per Share  Gross P/L  Comm  Ecn Fee  \\\n",
       "0   IRBT  4.945  5.01  10.0          0.065       0.65  0.10    0.060   \n",
       "1   NVTS  8.770  9.03  10.0          0.260       2.60  0.10    0.030   \n",
       "2   OPEN  3.760  3.89  10.0          0.130       1.30  0.15    0.015   \n",
       "3   FFAI  2.435  2.65  10.0          0.215       2.15  0.10    0.030   \n",
       "4   DNUT  5.840  5.62  10.0         -0.220      -2.20  0.10    0.060   \n",
       "\n",
       "   Other Fees  Net P/L  ...       Date Setup News Company Type  L2  \\\n",
       "0        0.05    0.440  ...  7/21/2025   NaN  NaN          NaN NaN   \n",
       "1        0.06    2.410  ...  7/21/2025   NaN  NaN          NaN NaN   \n",
       "2        0.08    1.055  ...  7/21/2025   NaN  NaN          NaN NaN   \n",
       "3        0.05    1.970  ...  7/22/2025   NaN  NaN          NaN NaN   \n",
       "4        0.05   -2.410  ...  7/23/2025   NaN  NaN          NaN NaN   \n",
       "\n",
       "   Daily Volume  Entry Candle Volume  Outcome  Strategy Followed  Comments  \n",
       "0           NaN                  NaN      NaN                NaN       NaN  \n",
       "1           NaN                  NaN      NaN                NaN       NaN  \n",
       "2           NaN                  NaN      NaN                NaN       NaN  \n",
       "3           NaN                  NaN      NaN                NaN       NaN  \n",
       "4           NaN                  NaN      NaN                NaN       NaN  \n",
       "\n",
       "[5 rows x 23 columns]"
      ]
     },
     "execution_count": 9,
     "metadata": {},
     "output_type": "execute_result"
    }
   ],
   "source": [
    "ledger.head()"
   ]
  },
  {
   "cell_type": "code",
   "execution_count": 10,
   "id": "7da4bf01",
   "metadata": {},
   "outputs": [],
   "source": [
    "traded_stocks = ledger['Symbol'].unique().tolist()\n",
    "not_yet_in_ledger = ['RILY', 'BE', 'LIDR', 'FFAI', 'SRFM']\n",
    "traded_stocks = traded_stocks + not_yet_in_ledger"
   ]
  },
  {
   "cell_type": "markdown",
   "id": "f84021af",
   "metadata": {},
   "source": [
    "## Retrieve Classification Results"
   ]
  },
  {
   "cell_type": "code",
   "execution_count": 11,
   "id": "e86a6b11",
   "metadata": {},
   "outputs": [],
   "source": [
    "classification_result = pd.read_csv('scanner/all_symbols_results.csv')"
   ]
  },
  {
   "cell_type": "markdown",
   "id": "a84d7a5d",
   "metadata": {},
   "source": [
    "## Analyze Data"
   ]
  },
  {
   "cell_type": "code",
   "execution_count": 20,
   "id": "57dc0b95",
   "metadata": {},
   "outputs": [],
   "source": [
    "# TODO: renew all symbol results each day and map to the trades"
   ]
  },
  {
   "cell_type": "code",
   "execution_count": 14,
   "id": "e4f07699",
   "metadata": {},
   "outputs": [],
   "source": [
    "# select classification for traded stocks\n",
    "traded_classified = classification_result[classification_result['Ticker'].isin(traded_stocks)]"
   ]
  },
  {
   "cell_type": "code",
   "execution_count": 24,
   "id": "405c4ed2",
   "metadata": {},
   "outputs": [
    {
     "data": {
      "text/html": [
       "<style type=\"text/css\">\n",
       "</style>\n",
       "<table id=\"T_1d94a\">\n",
       "  <thead>\n",
       "    <tr>\n",
       "      <th class=\"blank level0\" >&nbsp;</th>\n",
       "      <th id=\"T_1d94a_level0_col0\" class=\"col_heading level0 col0\" >currentPrice</th>\n",
       "      <th id=\"T_1d94a_level0_col1\" class=\"col_heading level0 col1\" >averageDailyVolume10Day</th>\n",
       "      <th id=\"T_1d94a_level0_col2\" class=\"col_heading level0 col2\" >marketCap</th>\n",
       "    </tr>\n",
       "  </thead>\n",
       "  <tbody>\n",
       "    <tr>\n",
       "      <th id=\"T_1d94a_level0_row0\" class=\"row_heading level0 row0\" >mean</th>\n",
       "      <td id=\"T_1d94a_row0_col0\" class=\"data row0 col0\" >$5.54</td>\n",
       "      <td id=\"T_1d94a_row0_col1\" class=\"data row0 col1\" >47,415,449</td>\n",
       "      <td id=\"T_1d94a_row0_col2\" class=\"data row0 col2\" >976,638,287</td>\n",
       "    </tr>\n",
       "    <tr>\n",
       "      <th id=\"T_1d94a_level0_row1\" class=\"row_heading level0 row1\" >min</th>\n",
       "      <td id=\"T_1d94a_row1_col0\" class=\"data row1 col0\" >$1.13</td>\n",
       "      <td id=\"T_1d94a_row1_col1\" class=\"data row1 col1\" >780,410</td>\n",
       "      <td id=\"T_1d94a_row1_col2\" class=\"data row1 col2\" >22,157,604</td>\n",
       "    </tr>\n",
       "    <tr>\n",
       "      <th id=\"T_1d94a_level0_row2\" class=\"row_heading level0 row2\" >max</th>\n",
       "      <td id=\"T_1d94a_row2_col0\" class=\"data row2 col0\" >$26.72</td>\n",
       "      <td id=\"T_1d94a_row2_col1\" class=\"data row2 col1\" >504,748,910</td>\n",
       "      <td id=\"T_1d94a_row2_col2\" class=\"data row2 col2\" >6,205,158,400</td>\n",
       "    </tr>\n",
       "  </tbody>\n",
       "</table>\n"
      ],
      "text/plain": [
       "<pandas.io.formats.style.Styler at 0x123fa2d70>"
      ]
     },
     "execution_count": 24,
     "metadata": {},
     "output_type": "execute_result"
    }
   ],
   "source": [
    "# explore market cap, price and volume\n",
    "summary = traded_classified[['currentPrice', 'averageDailyVolume10Day', 'marketCap']].describe().loc[['mean', 'min', 'max']]\n",
    "\n",
    "# Format the table nicely\n",
    "summary_formatted = summary.style.format({\n",
    "    'currentPrice': '${:,.2f}',\n",
    "    'averageDailyVolume10Day': '{:,.0f}',\n",
    "    'marketCap': '{:,.0f}'\n",
    "})\n",
    "summary_formatted"
   ]
  },
  {
   "cell_type": "code",
   "execution_count": null,
   "id": "35c841fd",
   "metadata": {},
   "outputs": [],
   "source": []
  },
  {
   "cell_type": "code",
   "execution_count": null,
   "id": "d67fe5e4",
   "metadata": {},
   "outputs": [],
   "source": []
  },
  {
   "cell_type": "markdown",
   "id": "e075ebcd",
   "metadata": {},
   "source": [
    "## Filter Data for Scanner"
   ]
  },
  {
   "cell_type": "code",
   "execution_count": 33,
   "id": "e706b674",
   "metadata": {},
   "outputs": [
    {
     "name": "stdout",
     "output_type": "stream",
     "text": [
      "Number of stocks after first filtering: 3121\n"
     ]
    }
   ],
   "source": [
    "valid_stocks = classification_result[(classification_result['marketCapLabel'] == 'small') & (classification_result['priceRangeLabel'] == 'in')]\n",
    "print(f'Number of stocks after first filtering: {len(valid_stocks)}')"
   ]
  },
  {
   "cell_type": "code",
   "execution_count": 34,
   "id": "827d423c",
   "metadata": {},
   "outputs": [
    {
     "name": "stdout",
     "output_type": "stream",
     "text": [
      "Number of stocks after filtering by price: 2837\n"
     ]
    }
   ],
   "source": [
    "# try price filter\n",
    "max_price_offset = 1.2\n",
    "price_filtered = valid_stocks[valid_stocks['currentPrice'] < summary['currentPrice'].loc['max'] * max_price_offset]\n",
    "print(f'Number of stocks after filtering by price: {len(price_filtered)}')"
   ]
  },
  {
   "cell_type": "code",
   "execution_count": 35,
   "id": "b5b203ad",
   "metadata": {},
   "outputs": [
    {
     "name": "stdout",
     "output_type": "stream",
     "text": [
      "Number of stocks after filtering by average volume: 829\n"
     ]
    }
   ],
   "source": [
    "# try average volume filter\n",
    "min_avg_volume_offset = 0.8\n",
    "avg_volume_filtered = valid_stocks[valid_stocks['averageDailyVolume10Day'] > summary['averageDailyVolume10Day'].loc['min'] * min_avg_volume_offset]\n",
    "print(f'Number of stocks after filtering by average volume: {len(avg_volume_filtered)}')"
   ]
  },
  {
   "cell_type": "code",
   "execution_count": 36,
   "id": "271853ca",
   "metadata": {},
   "outputs": [
    {
     "name": "stdout",
     "output_type": "stream",
     "text": [
      "Number of stocks after filtering by price and average volume: 807\n"
     ]
    }
   ],
   "source": [
    "# try price and average volume filters\n",
    "price_avg_volume_filtered = valid_stocks[\n",
    "    (valid_stocks['Ticker'].isin(price_filtered['Ticker'].unique())) &\n",
    "    (valid_stocks['Ticker'].isin(avg_volume_filtered['Ticker'].unique()))\n",
    "]\n",
    "print(f'Number of stocks after filtering by price and average volume: {len(price_avg_volume_filtered)}')"
   ]
  },
  {
   "cell_type": "code",
   "execution_count": 32,
   "id": "91251106",
   "metadata": {},
   "outputs": [
    {
     "name": "stderr",
     "output_type": "stream",
     "text": [
      "/var/folders/q7/0s4jjvb94hb_2_90j2545plw0000gn/T/ipykernel_58424/69151883.py:4: FutureWarning: YF.download() has changed argument auto_adjust default to True\n",
      "  df = yf.download(test_download, period='1d', interval='5m', group_by=\"ticker\", progress=False, threads=True, ignore_tz=True)\n",
      "\n",
      "13 Failed downloads:\n",
      "['SATX', 'LTRY', 'CLBR', 'HYAC', 'RDUS', 'EYEN', 'EVRI', 'SRM', 'INZY', 'DADA', 'RDFN', 'RGLS', 'KIND']: YFPricesMissingError('possibly delisted; no price data found  (period=1d)')\n"
     ]
    },
    {
     "name": "stdout",
     "output_type": "stream",
     "text": [
      "Elapsed time: 24.90 seconds\n",
      "Elapsed time per symbol: 0.03 seconds\n"
     ]
    }
   ],
   "source": [
    "test_download = price_avg_volume_filtered['Ticker'].dropna().tolist()\n",
    "start_time = time.time()\n",
    "\n",
    "df = yf.download(test_download, period='1d', interval='5m', group_by=\"ticker\", progress=False, threads=True, ignore_tz=True)\n",
    "\n",
    "end_time = time.time()\n",
    "\n",
    "print(f'Elapsed time: {end_time-start_time:.2f} seconds')\n",
    "print(f'Elapsed time per symbol: {(end_time-start_time)/len(test_download):.2f} seconds')"
   ]
  },
  {
   "cell_type": "markdown",
   "id": "9835eed0",
   "metadata": {},
   "source": [
    "With 800 stocks, processing time is 25 seconds, which is enough to run in the last minute of 5 minute candle and identify potential setups.<br>\n",
    "Time may increase with adding filtering, but it shouldn't be the problem.<br>\n",
    "It is also possible to run another scanner, once in 15 minutes, for a higher subset of stocks, that will identify those with a good volume today. This will reduce the work for the main scanner. Although more data needs to be collected to identify what is volume threshold"
   ]
  },
  {
   "cell_type": "code",
   "execution_count": null,
   "id": "cf60dce4",
   "metadata": {},
   "outputs": [],
   "source": []
  },
  {
   "cell_type": "code",
   "execution_count": null,
   "id": "94e3b485",
   "metadata": {},
   "outputs": [],
   "source": []
  },
  {
   "cell_type": "code",
   "execution_count": 38,
   "id": "4054ee65",
   "metadata": {},
   "outputs": [],
   "source": [
    "def download_data(symbols, period='5d', interval='5m', batch_size=500, delay=1):\n",
    "    final_df = pd.DataFrame()\n",
    "\n",
    "    for i in range(0, len(symbols), batch_size):\n",
    "        batch_symbols = symbols[i:i + batch_size]\n",
    "        print(f'Processing batch {i // batch_size + 1}/{(len(symbols) - 1) // batch_size + 1}')\n",
    "\n",
    "        try:\n",
    "            batch_df = yf.download(batch_symbols, period=period, interval=interval, group_by=\"ticker\", progress=False, threads=True, ignore_tz=True)\n",
    "\n",
    "            if batch_df.empty:\n",
    "                continue\n",
    "\n",
    "            batch_df_stacked = batch_df.stack(level=0).stack(level=0).reset_index()\n",
    "            batch_df_stacked.columns = ['Datetime', 'Symbol', 'PriceType', 'Price']\n",
    "\n",
    "            final_df = pd.concat([final_df, batch_df_stacked])\n",
    "        \n",
    "        except Exception as e:\n",
    "            print(f\"Error in batch {i // batch_size + 1}: {e}\")\n",
    "            continue\n",
    "\n",
    "        time.sleep(delay)\n",
    "\n",
    "    return final_df\n"
   ]
  }
 ],
 "metadata": {
  "kernelspec": {
   "display_name": "venv",
   "language": "python",
   "name": "python3"
  },
  "language_info": {
   "codemirror_mode": {
    "name": "ipython",
    "version": 3
   },
   "file_extension": ".py",
   "mimetype": "text/x-python",
   "name": "python",
   "nbconvert_exporter": "python",
   "pygments_lexer": "ipython3",
   "version": "3.13.5"
  }
 },
 "nbformat": 4,
 "nbformat_minor": 5
}
